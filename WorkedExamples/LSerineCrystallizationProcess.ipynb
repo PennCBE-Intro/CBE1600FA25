{
  "nbformat": 4,
  "nbformat_minor": 0,
  "metadata": {
    "colab": {
      "provenance": []
    },
    "kernelspec": {
      "name": "python3",
      "display_name": "Python 3"
    },
    "language_info": {
      "name": "python"
    }
  },
  "cells": [
    {
      "cell_type": "markdown",
      "source": [
        "# L-Serine Production Question"
      ],
      "metadata": {
        "id": "2A63cUcYkoXZ"
      }
    },
    {
      "cell_type": "markdown",
      "source": [
        "L-Serine is an amino acid that often is provided when intravenous feeding solutions are used to maintain the health of a patient. It has a molecular weight of 105, is produced by fermentation and recovered and purified by crystallization at 10°C. Yield is enhanced by adding methanol to the system, thereby reducing serine solubility in aqueous solutions.\n",
        "An aqueous serine solution containing 30 wt.% serine and 70 wt.% water is added along with methanol to a batch crystallizer that is allowed to equilibrate at 10 °C. The resulting crystals are recovered by filtration; liquid passing through the filter is known as filtrate, and the recovered crystals may be assumed in this problem to be free of adhering filtrate. The crystals contain a mole of water for every mole of serine and are known as a monohydrate. The crystal mass recovered in a particular laboratory run is 500 g, and the filtrate is determined to be 2.4 wt% serine, 48.8 wt.% water, and 48.8 wt.% methanol.\n",
        "\n",
        "1.   Draw and label a flowchart for the operation and carry out a degree-of-freedom ananlysis\n",
        "2.   Determine the ratio of mass of methanol added per unit mass of feed.\n",
        "3.   The laboratory process is to be scaled to produce 750 kg/h of product crystals. Determine the required feed rates of aqueous serine solution and methanol."
      ],
      "metadata": {
        "id": "g3MaA9YCkpV5"
      }
    },
    {
      "cell_type": "markdown",
      "source": [
        "This problem is a fairly straightforward one to solve. It is useful to examine the degree of freedom analysis. DoF analysis requires one to assemble algebraic relations connecting variables. Each such equation (whether from material balance, stoichiometry, or presented in the problem statement) represents a \"known relation\" that decreases degrees of freedom. the As mentioned in class, it is often the case that DoF analysis may inadvertently overcount unknowns and known equations - this is not a problem per se. What matters is that the information is properly digested to reveal whether or not there is enough given to solve the problem.\n",
        "\n",
        "A common mistake that is made is to use overall mass balance along with individual component balance. This is redundant however, as the components themselves constitute the system overall. In the serine case, the DoF analysis shows:\n",
        "\n",
        "**Unknowns**: $m_1$, $m_2$, $m_3$ and $x$\n",
        "\n",
        "**Known relations**: 3 component mass balances, stoichiometry\n",
        "\n",
        "We can use **either** the overall mass balance and any 2 component balances, **or** we can use all 3 component balances. The problem is solved below in both ways."
      ],
      "metadata": {
        "id": "5UgL4KcckrRQ"
      }
    },
    {
      "cell_type": "markdown",
      "source": [
        "# Linear Algebra - Solving Linear Simultaneous Equations Using Matrices"
      ],
      "metadata": {
        "id": "XNanOeLIDGDi"
      }
    },
    {
      "cell_type": "markdown",
      "source": [
        "We can use Numpy's solve or matrix inversion methods to solve a system of linear equations. Recall (if you haven't seen this yet in linear algebra you will soon!) that for $AX=B$ that $X=A^{-1}\\cdot B$, i.e. the dot product of the inverse of $A$ with $B$.\n",
        "\n",
        "Let's look at the L-serine crystallization problem this way. Recall the final equations we came up with were\n",
        "\n",
        "\\begin{eqnarray}\n",
        "m_1 + m_2 = m_3 + 500 \\\\\n",
        "m_2 = 0.488 m_3 \\\\\n",
        "0.3m_1 = 427 + 0.024 m_3\n",
        "\\end{eqnarray}\n",
        "\n",
        "We can transform this into a layout that makes it even clearer how the matrix math works.\n",
        "\n",
        "\\begin{eqnarray}\n",
        "1 m_1 + 1 m_2 - 1 m_3 = 500 \\\\\n",
        "0 m_1 + 1 m_2 - 0.488 m_3 = 0 \\\\\n",
        "0.3 m_1 + 0 m_2 - 0.024 m_3 = 427\n",
        "\\end{eqnarray}\n",
        "\n",
        "We see that the above three equations are the product of mulitplying a $3\\times 3$ matrix by $3\\times 1$ matrix to produce a $3\\times 1$ matrix, i.e. $AX=B$ where\n",
        "\n",
        "\\begin{equation}\n",
        " A=\n",
        "  \\left[ {\\begin{array}{ccc}\n",
        "   1 & 1 & -1 \\\\\n",
        "   0 & 1 & -0.488 \\\\\n",
        "   0.3 & 0 & -0.024\\\\\n",
        "  \\end{array} } \\right]\n",
        "\\end{equation}\n",
        "\n",
        "\\begin{equation}\n",
        " X=\n",
        "  \\left[ {\\begin{array}{c}\n",
        "   m_1 \\\\\n",
        "   m_2 \\\\\n",
        "   m_3\\\\\n",
        "  \\end{array} } \\right]\n",
        "\\end{equation}\n",
        "\n",
        "\\begin{equation}\n",
        " B=\n",
        "  \\left[ {\\begin{array}{c}\n",
        "   500 \\\\\n",
        "   0 \\\\\n",
        "   427 \\\\\n",
        "  \\end{array} } \\right]\n",
        "\\end{equation}"
      ],
      "metadata": {
        "id": "Cp5YyzOxuNYx"
      }
    },
    {
      "cell_type": "code",
      "source": [
        "import numpy  as np\n",
        "import matplotlib.pyplot as plt\n",
        "\n",
        "A = np.array([[1, 1, -1], [0, 1, -0.488], [0.3, 0, -0.024]])\n",
        "B = np.array([500, 0, 427])\n",
        "solution = np.linalg.solve(A,B)\n",
        "solution_alternative_method = np.linalg.inv(A).dot(B)\n",
        "\n",
        "print(f\"The solved value for m1 is: {solution[0]:.1f}\")\n",
        "print(f\"The solved value for m2 is: {solution[1]:.1f}\")\n",
        "print(f\"The solved value for m3 is: {solution[2]:.1f}\")\n",
        "\n",
        "print('The solved values using the explicit matrix inversion and dot product are the same: ', solution_alternative_method)\n",
        "# We can apply some significant figure formatting...\n",
        "print('The solved values using the explicit matrix inversion and dot product are the same:',  [f\"{result:.1f}\" for result in solution_alternative_method])"
      ],
      "metadata": {
        "colab": {
          "base_uri": "https://localhost:8080/"
        },
        "id": "90TrLk_8wSwp",
        "outputId": "5bcb2843-8e82-47b0-fd20-c06e8e9ee2f2"
      },
      "execution_count": null,
      "outputs": [
        {
          "output_type": "stream",
          "name": "stdout",
          "text": [
            "The solved value for m1 is: 1594.3\n",
            "The solved value for m2 is: 1043.0\n",
            "The solved value for m3 is: 2137.3\n",
            "The solved values using the explicit matrix inversion and dot product are the same:  [1594.32098765 1043.02469136 2137.34567901]\n",
            "The solved values using the explicit matrix inversion and dot product are the same: ['1594.3', '1043.0', '2137.3']\n"
          ]
        }
      ]
    },
    {
      "cell_type": "markdown",
      "source": [
        "The above aproach used the overall system mass balance (i.e. $m_1 + m_2 = m_3 + 500$) along with methanol and serine mass balances. If we instead use all 3 component mass balances, i.e. replacing the overall system balance with water balance, the relevant equations are:\n",
        "\n",
        "\\begin{eqnarray}\n",
        "0.7 m_1 + 0 m_2 - 0.488 m_3 = 73 \\\\\n",
        "0 m_1 + 1 m_2 - 0.488 m_3 = 0 \\\\\n",
        "0.3 m_1 + 0 m_2 - 0.024 m_3 = 427\n",
        "\\end{eqnarray}\n",
        "\n",
        "and so now are matrices are\n",
        "\n",
        "\\begin{equation}\n",
        " A=\n",
        "  \\left[ {\\begin{array}{ccc}\n",
        "   0.7 & 0 & -0.488 \\\\\n",
        "   0 & 1 & -0.488 \\\\\n",
        "   0.3 & 0 & -0.024\\\\\n",
        "  \\end{array} } \\right]\n",
        "\\end{equation}\n",
        "\n",
        "\\begin{equation}\n",
        " X=\n",
        "  \\left[ {\\begin{array}{c}\n",
        "   m_1 \\\\\n",
        "   m_2 \\\\\n",
        "   m_3\\\\\n",
        "  \\end{array} } \\right]\n",
        "\\end{equation}\n",
        "\n",
        "\\begin{equation}\n",
        " B=\n",
        "  \\left[ {\\begin{array}{c}\n",
        "   73 \\\\\n",
        "   0 \\\\\n",
        "   427 \\\\\n",
        "  \\end{array} } \\right]\n",
        "\\end{equation}\n",
        "\n",
        "The solution is shown below."
      ],
      "metadata": {
        "id": "leaWUuW9kzah"
      }
    },
    {
      "cell_type": "code",
      "source": [
        "A = np.array([[0.7, 0, -0.488], [0, 1, -0.488], [0.3, 0, -0.024]])\n",
        "B = np.array([73, 0, 427])\n",
        "solution = np.linalg.solve(A,B)\n",
        "solution_alternative_method = np.linalg.inv(A).dot(B)\n",
        "print(f\"The solved value for m1 is: {solution[0]:.1f}\")\n",
        "print(f\"The solved value for m2 is: {solution[1]:.1f}\")\n",
        "print(f\"The solved value for m3 is: {solution[2]:.1f}\")\n",
        "\n",
        "print('The solved values using the explicit matrix inversion and dot product are the same: ', solution_alternative_method)\n",
        "# We can apply some significant figure formatting...\n",
        "print('The solved values using the explicit matrix inversion and dot product are the same:',  [f\"{result:.1f}\" for result in solution_alternative_method])"
      ],
      "metadata": {
        "colab": {
          "base_uri": "https://localhost:8080/"
        },
        "id": "hT_UXhjhk6mJ",
        "outputId": "81203fad-eed5-40a1-b676-c45e482e65b2"
      },
      "execution_count": null,
      "outputs": [
        {
          "output_type": "stream",
          "name": "stdout",
          "text": [
            "The solved value for m1 is: 1594.3\n",
            "The solved value for m2 is: 1043.0\n",
            "The solved value for m3 is: 2137.3\n",
            "The solved values using the explicit matrix inversion and dot product are the same:  [1594.32098765 1043.02469136 2137.34567901]\n",
            "The solved values using the explicit matrix inversion and dot product are the same: ['1594.3', '1043.0', '2137.3']\n"
          ]
        }
      ]
    }
  ]
}